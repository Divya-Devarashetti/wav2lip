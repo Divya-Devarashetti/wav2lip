{
  "nbformat": 4,
  "nbformat_minor": 0,
  "metadata": {
    "colab": {
      "provenance": [],
      "name": "wav2lip-AI.ipynb",
      "include_colab_link": true
    },
    "kernelspec": {
      "name": "python3",
      "display_name": "Python 3"
    },
    "accelerator": "GPU"
  },
  "cells": [
    {
      "cell_type": "markdown",
      "metadata": {
        "id": "view-in-github",
        "colab_type": "text"
      },
      "source": [
        "<a href=\"https://colab.research.google.com/github/Divya-Devarashetti/wav2lip-AI/blob/main/wav2lip_AI.ipynb\" target=\"_parent\"><img src=\"https://colab.research.google.com/assets/colab-badge.svg\" alt=\"Open In Colab\"/></a>"
      ]
    },
    {
      "cell_type": "markdown",
      "metadata": {
        "id": "vSQFs_G8caeE"
      },
      "source": [
        "# Collab preliminaries"
      ]
    },
    {
      "cell_type": "code",
      "metadata": {
        "id": "XIVB0Xn1g6ih",
        "colab": {
          "base_uri": "https://localhost:8080/"
        },
        "outputId": "40130920-191e-4ec2-e943-8029a42e74cc"
      },
      "source": [
        "!nvcc --version"
      ],
      "execution_count": null,
      "outputs": [
        {
          "output_type": "stream",
          "name": "stdout",
          "text": [
            "nvcc: NVIDIA (R) Cuda compiler driver\n",
            "Copyright (c) 2005-2021 NVIDIA Corporation\n",
            "Built on Sun_Feb_14_21:12:58_PST_2021\n",
            "Cuda compilation tools, release 11.2, V11.2.152\n",
            "Build cuda_11.2.r11.2/compiler.29618528_0\n"
          ]
        }
      ]
    },
    {
      "cell_type": "code",
      "metadata": {
        "id": "qciH4PsUazL_",
        "colab": {
          "base_uri": "https://localhost:8080/"
        },
        "outputId": "16ac0910-1299-450d-8a98-41ed7ebe8e2a"
      },
      "source": [
        "from google.colab import drive\n",
        "drive.mount('/content/gdrive')"
      ],
      "execution_count": null,
      "outputs": [
        {
          "output_type": "stream",
          "name": "stdout",
          "text": [
            "Mounted at /content/gdrive\n"
          ]
        }
      ]
    },
    {
      "cell_type": "markdown",
      "metadata": {
        "id": "yJ5taGmPcWV-"
      },
      "source": [
        "# Get the code and models"
      ]
    },
    {
      "cell_type": "code",
      "metadata": {
        "id": "P3LihClHbUd3",
        "colab": {
          "base_uri": "https://localhost:8080/"
        },
        "outputId": "47204a38-a69b-45aa-8e26-7b565a4e2675"
      },
      "source": [
        "!git clone https://github.com/Rudrabha/Wav2Lip.git"
      ],
      "execution_count": null,
      "outputs": [
        {
          "output_type": "stream",
          "name": "stdout",
          "text": [
            "Cloning into 'Wav2Lip'...\n",
            "remote: Enumerating objects: 360, done.\u001b[K\n",
            "remote: Total 360 (delta 0), reused 0 (delta 0), pack-reused 360\u001b[K\n",
            "Receiving objects: 100% (360/360), 522.32 KiB | 19.34 MiB/s, done.\n",
            "Resolving deltas: 100% (198/198), done.\n"
          ]
        }
      ]
    },
    {
      "cell_type": "code",
      "metadata": {
        "id": "y-19nzx8SamJ",
        "colab": {
          "base_uri": "https://localhost:8080/"
        },
        "outputId": "5cc48232-9927-4cdb-c0b5-5c07d7d919c2"
      },
      "source": [
        "!ls /content/gdrive/MyDrive/Wav2Lip"
      ],
      "execution_count": null,
      "outputs": [
        {
          "output_type": "stream",
          "name": "stdout",
          "text": [
            "AIVOICE.wav  video.mp3\n"
          ]
        }
      ]
    },
    {
      "cell_type": "code",
      "metadata": {
        "id": "YjzMPy_Sb0AI"
      },
      "source": [
        "!cp -ri \"/content/gdrive/MyDrive/Wav2lip/wav2lip_gan.pth\" /content/Wav2Lip/checkpoints/"
      ],
      "execution_count": null,
      "outputs": []
    },
    {
      "cell_type": "markdown",
      "metadata": {
        "id": "aWTaOS3ncFt6"
      },
      "source": [
        "# Get the pre-requisites"
      ]
    },
    {
      "cell_type": "code",
      "metadata": {
        "id": "Ooh28vw-Uvd3",
        "colab": {
          "base_uri": "https://localhost:8080/"
        },
        "outputId": "a332e154-9c2d-43fa-b699-d184190d7d94"
      },
      "source": [
        "!pip uninstall tensorflow tensorflow-gpu"
      ],
      "execution_count": null,
      "outputs": [
        {
          "output_type": "stream",
          "name": "stdout",
          "text": [
            "Found existing installation: tensorflow 2.9.2\n",
            "Uninstalling tensorflow-2.9.2:\n",
            "  Would remove:\n",
            "    /usr/local/bin/estimator_ckpt_converter\n",
            "    /usr/local/bin/import_pb_to_tensorboard\n",
            "    /usr/local/bin/saved_model_cli\n",
            "    /usr/local/bin/tensorboard\n",
            "    /usr/local/bin/tf_upgrade_v2\n",
            "    /usr/local/bin/tflite_convert\n",
            "    /usr/local/bin/toco\n",
            "    /usr/local/bin/toco_from_protos\n",
            "    /usr/local/lib/python3.8/dist-packages/tensorflow-2.9.2.dist-info/*\n",
            "    /usr/local/lib/python3.8/dist-packages/tensorflow/*\n",
            "Proceed (Y/n)? Y\n",
            "  Successfully uninstalled tensorflow-2.9.2\n",
            "\u001b[33mWARNING: Skipping tensorflow-gpu as it is not installed.\u001b[0m\u001b[33m\n",
            "\u001b[0m"
          ]
        }
      ]
    },
    {
      "cell_type": "code",
      "metadata": {
        "id": "49dCYlLdcK2D",
        "colab": {
          "base_uri": "https://localhost:8080/"
        },
        "outputId": "1e5136fe-10f1-411f-8102-69b9859a0ec8"
      },
      "source": [
        "!cd Wav2Lip && pip install -r requirements.txt"
      ],
      "execution_count": null,
      "outputs": [
        {
          "output_type": "stream",
          "name": "stdout",
          "text": [
            "Looking in indexes: https://pypi.org/simple, https://us-python.pkg.dev/colab-wheels/public/simple/\n",
            "Collecting librosa==0.7.0\n",
            "  Downloading librosa-0.7.0.tar.gz (1.6 MB)\n",
            "\u001b[2K     \u001b[90m━━━━━━━━━━━━━━━━━━━━━━━━━━━━━━━━━━━━━━━━\u001b[0m \u001b[32m1.6/1.6 MB\u001b[0m \u001b[31m55.2 MB/s\u001b[0m eta \u001b[36m0:00:00\u001b[0m\n",
            "\u001b[?25h  Preparing metadata (setup.py) ... \u001b[?25l\u001b[?25hdone\n",
            "Collecting numpy==1.17.1\n",
            "  Downloading numpy-1.17.1.zip (6.5 MB)\n",
            "\u001b[2K     \u001b[90m━━━━━━━━━━━━━━━━━━━━━━━━━━━━━━━━━━━━━━━━\u001b[0m \u001b[32m6.5/6.5 MB\u001b[0m \u001b[31m101.5 MB/s\u001b[0m eta \u001b[36m0:00:00\u001b[0m\n",
            "\u001b[?25h  Preparing metadata (setup.py) ... \u001b[?25l\u001b[?25hdone\n",
            "Requirement already satisfied: opencv-contrib-python>=4.2.0.34 in /usr/local/lib/python3.8/dist-packages (from -r requirements.txt (line 3)) (4.6.0.66)\n",
            "\u001b[31mERROR: Could not find a version that satisfies the requirement opencv-python==4.1.0.25 (from versions: 3.4.0.14, 3.4.8.29, 3.4.9.31, 3.4.9.33, 3.4.10.35, 3.4.10.37, 3.4.11.39, 3.4.11.41, 3.4.11.43, 3.4.11.45, 3.4.13.47, 3.4.14.51, 3.4.14.53, 3.4.15.55, 3.4.16.57, 3.4.16.59, 3.4.17.61, 3.4.17.63, 3.4.18.65, 4.1.2.30, 4.2.0.32, 4.2.0.34, 4.3.0.36, 4.3.0.38, 4.4.0.40, 4.4.0.42, 4.4.0.44, 4.4.0.46, 4.5.1.48, 4.5.2.52, 4.5.2.54, 4.5.3.56, 4.5.4.58, 4.5.4.60, 4.5.5.62, 4.5.5.64, 4.6.0.66, 4.7.0.68)\u001b[0m\u001b[31m\n",
            "\u001b[0m\u001b[31mERROR: No matching distribution found for opencv-python==4.1.0.25\u001b[0m\u001b[31m\n",
            "\u001b[0m"
          ]
        }
      ]
    },
    {
      "cell_type": "code",
      "metadata": {
        "id": "ey_bN4M6X_95",
        "colab": {
          "base_uri": "https://localhost:8080/"
        },
        "outputId": "4d794dbc-e1d5-4552-e955-3a1427c296dd"
      },
      "source": [
        "!wget \"https://www.adrianbulat.com/downloads/python-fan/s3fd-619a316812.pth\" -O \"Wav2Lip/face_detection/detection/sfd/s3fd.pth\""
      ],
      "execution_count": null,
      "outputs": [
        {
          "output_type": "stream",
          "name": "stdout",
          "text": [
            "--2023-01-11 08:42:23--  https://www.adrianbulat.com/downloads/python-fan/s3fd-619a316812.pth\n",
            "Resolving www.adrianbulat.com (www.adrianbulat.com)... 45.136.29.207\n",
            "Connecting to www.adrianbulat.com (www.adrianbulat.com)|45.136.29.207|:443... connected.\n",
            "HTTP request sent, awaiting response... 200 OK\n",
            "Length: 89843225 (86M) [application/octet-stream]\n",
            "Saving to: ‘Wav2Lip/face_detection/detection/sfd/s3fd.pth’\n",
            "\n",
            "Wav2Lip/face_detect 100%[===================>]  85.68M  25.2MB/s    in 3.4s    \n",
            "\n",
            "2023-01-11 08:42:27 (25.2 MB/s) - ‘Wav2Lip/face_detection/detection/sfd/s3fd.pth’ saved [89843225/89843225]\n",
            "\n"
          ]
        }
      ]
    },
    {
      "cell_type": "markdown",
      "metadata": {
        "id": "qdIQfY2Kswcb"
      },
      "source": [
        "# Now lets try!"
      ]
    },
    {
      "cell_type": "code",
      "metadata": {
        "id": "KoVGMtjRZfeR",
        "colab": {
          "base_uri": "https://localhost:8080/"
        },
        "outputId": "aa720905-dda1-46dd-9c37-d8f7ce012e0a"
      },
      "source": [
        "!cp \"/content/gdrive/MyDrive/Wav2Lip/video.mp3\" \"/content/gdrive/MyDrive/Wav2Lip/AIVOICE.wav\" sample_data/\n",
        "!ls sample_data/"
      ],
      "execution_count": null,
      "outputs": [
        {
          "output_type": "stream",
          "name": "stdout",
          "text": [
            "AIVOICE.wav    california_housing_test.csv   mnist_test.csv\t    README.md\n",
            "anscombe.json  california_housing_train.csv  mnist_train_small.csv  video.mp3\n"
          ]
        }
      ]
    },
    {
      "cell_type": "code",
      "metadata": {
        "id": "jR5utmDMcSZY",
        "colab": {
          "base_uri": "https://localhost:8080/"
        },
        "outputId": "65718f99-41df-44a2-ea85-94ee0ae2f551"
      },
      "source": [
        "!cd Wav2Lip && python inference.py --checkpoint_path checkpoints/wav2lip_gan.pth --face \"../sample_data/video.mp3\" --audio \"../sample_data/AIVOICE.wav\""
      ],
      "execution_count": null,
      "outputs": [
        {
          "output_type": "stream",
          "name": "stdout",
          "text": [
            "Using cuda for inference.\n",
            "Reading video frames...\n",
            "Number of frames available for inference: 19115\n",
            "(80, 1296)\n",
            "Length of mel chunks: 482\n",
            "  0% 0/4 [00:00<?, ?it/s]\n",
            "  0% 0/31 [00:00<?, ?it/s]\u001b[A\n",
            "  3% 1/31 [00:07<03:33,  7.13s/it]\u001b[A\n",
            "  6% 2/31 [00:07<01:33,  3.23s/it]\u001b[A\n",
            " 10% 3/31 [00:08<00:55,  1.98s/it]\u001b[A\n",
            " 13% 4/31 [00:08<00:37,  1.40s/it]\u001b[A\n",
            " 16% 5/31 [00:09<00:27,  1.07s/it]\u001b[A\n",
            " 19% 6/31 [00:09<00:21,  1.15it/s]\u001b[A\n",
            " 23% 7/31 [00:10<00:17,  1.34it/s]\u001b[A\n",
            " 26% 8/31 [00:10<00:15,  1.50it/s]\u001b[A\n",
            " 29% 9/31 [00:11<00:13,  1.62it/s]\u001b[A\n",
            " 32% 10/31 [00:11<00:12,  1.73it/s]\u001b[A\n",
            " 35% 11/31 [00:12<00:11,  1.81it/s]\u001b[A\n",
            " 39% 12/31 [00:12<00:10,  1.86it/s]\u001b[A\n",
            " 42% 13/31 [00:13<00:09,  1.89it/s]\u001b[A\n",
            " 45% 14/31 [00:13<00:08,  1.92it/s]\u001b[A\n",
            " 48% 15/31 [00:14<00:08,  1.95it/s]\u001b[A\n",
            " 52% 16/31 [00:14<00:07,  1.94it/s]\u001b[A\n",
            " 55% 17/31 [00:15<00:07,  1.96it/s]\u001b[A\n",
            " 58% 18/31 [00:15<00:06,  1.96it/s]\u001b[A\n",
            " 61% 19/31 [00:16<00:06,  1.94it/s]\u001b[A\n",
            " 65% 20/31 [00:16<00:05,  1.94it/s]\u001b[A\n",
            " 68% 21/31 [00:17<00:05,  1.93it/s]\u001b[A\n",
            " 71% 22/31 [00:17<00:04,  1.94it/s]\u001b[A\n",
            " 74% 23/31 [00:18<00:04,  1.96it/s]\u001b[A\n",
            " 77% 24/31 [00:18<00:03,  1.96it/s]\u001b[A\n",
            " 81% 25/31 [00:19<00:03,  1.96it/s]\u001b[A\n",
            " 84% 26/31 [00:19<00:02,  1.97it/s]\u001b[A\n",
            " 87% 27/31 [00:20<00:02,  1.98it/s]\u001b[A\n",
            " 90% 28/31 [00:20<00:01,  1.98it/s]\u001b[A\n",
            " 94% 29/31 [00:21<00:01,  1.99it/s]\u001b[A\n",
            " 97% 30/31 [00:21<00:00,  1.98it/s]\u001b[A\n",
            "100% 31/31 [00:21<00:00,  1.41it/s]\n",
            "Load checkpoint from: checkpoints/wav2lip_gan.pth\n",
            "Model loaded\n",
            "100% 4/4 [00:33<00:00,  8.38s/it]\n",
            "ffmpeg version 3.4.11-0ubuntu0.1 Copyright (c) 2000-2022 the FFmpeg developers\n",
            "  built with gcc 7 (Ubuntu 7.5.0-3ubuntu1~18.04)\n",
            "  configuration: --prefix=/usr --extra-version=0ubuntu0.1 --toolchain=hardened --libdir=/usr/lib/x86_64-linux-gnu --incdir=/usr/include/x86_64-linux-gnu --enable-gpl --disable-stripping --enable-avresample --enable-avisynth --enable-gnutls --enable-ladspa --enable-libass --enable-libbluray --enable-libbs2b --enable-libcaca --enable-libcdio --enable-libflite --enable-libfontconfig --enable-libfreetype --enable-libfribidi --enable-libgme --enable-libgsm --enable-libmp3lame --enable-libmysofa --enable-libopenjpeg --enable-libopenmpt --enable-libopus --enable-libpulse --enable-librubberband --enable-librsvg --enable-libshine --enable-libsnappy --enable-libsoxr --enable-libspeex --enable-libssh --enable-libtheora --enable-libtwolame --enable-libvorbis --enable-libvpx --enable-libwavpack --enable-libwebp --enable-libx265 --enable-libxml2 --enable-libxvid --enable-libzmq --enable-libzvbi --enable-omx --enable-openal --enable-opengl --enable-sdl2 --enable-libdc1394 --enable-libdrm --enable-libiec61883 --enable-chromaprint --enable-frei0r --enable-libopencv --enable-libx264 --enable-shared\n",
            "  libavutil      55. 78.100 / 55. 78.100\n",
            "  libavcodec     57.107.100 / 57.107.100\n",
            "  libavformat    57. 83.100 / 57. 83.100\n",
            "  libavdevice    57. 10.100 / 57. 10.100\n",
            "  libavfilter     6.107.100 /  6.107.100\n",
            "  libavresample   3.  7.  0 /  3.  7.  0\n",
            "  libswscale      4.  8.100 /  4.  8.100\n",
            "  libswresample   2.  9.100 /  2.  9.100\n",
            "  libpostproc    54.  7.100 / 54.  7.100\n",
            "\u001b[0;33mGuessed Channel Layout for Input Stream #0.0 : mono\n",
            "\u001b[0mInput #0, wav, from '../sample_data/AIVOICE.wav':\n",
            "  Metadata:\n",
            "    title           : TTS\n",
            "    encoder         : Lavf58.45.100\n",
            "    encoded_by      : Descript\n",
            "  Duration: 00:00:16.20, bitrate: 705 kb/s\n",
            "    Stream #0:0: Audio: pcm_s16le ([1][0][0][0] / 0x0001), 44100 Hz, mono, s16, 705 kb/s\n",
            "Input #1, avi, from 'temp/result.avi':\n",
            "  Metadata:\n",
            "    encoder         : Lavf58.76.100\n",
            "  Duration: 00:00:16.07, start: 0.000000, bitrate: 638 kb/s\n",
            "    Stream #1:0: Video: mpeg4 (Simple Profile) (FMP4 / 0x34504D46), yuv420p, 360x360 [SAR 1:1 DAR 1:1], 631 kb/s, 30 fps, 30 tbr, 30 tbn, 30 tbc\n",
            "Stream mapping:\n",
            "  Stream #1:0 -> #0:0 (mpeg4 (native) -> h264 (libx264))\n",
            "  Stream #0:0 -> #0:1 (pcm_s16le (native) -> aac (native))\n",
            "Press [q] to stop, [?] for help\n",
            "\u001b[1;36m[libx264 @ 0x557a07c06d00] \u001b[0m\u001b[0;33m-qscale is ignored, -crf is recommended.\n",
            "\u001b[0m\u001b[1;36m[libx264 @ 0x557a07c06d00] \u001b[0musing SAR=1/1\n",
            "\u001b[1;36m[libx264 @ 0x557a07c06d00] \u001b[0musing cpu capabilities: MMX2 SSE2Fast SSSE3 SSE4.2 AVX FMA3 BMI2 AVX2\n",
            "\u001b[1;36m[libx264 @ 0x557a07c06d00] \u001b[0mprofile High, level 2.1\n",
            "\u001b[1;36m[libx264 @ 0x557a07c06d00] \u001b[0m264 - core 152 r2854 e9a5903 - H.264/MPEG-4 AVC codec - Copyleft 2003-2017 - http://www.videolan.org/x264.html - options: cabac=1 ref=3 deblock=1:0:0 analyse=0x3:0x113 me=hex subme=7 psy=1 psy_rd=1.00:0.00 mixed_ref=1 me_range=16 chroma_me=1 trellis=1 8x8dct=1 cqm=0 deadzone=21,11 fast_pskip=1 chroma_qp_offset=-2 threads=3 lookahead_threads=1 sliced_threads=0 nr=0 decimate=1 interlaced=0 bluray_compat=0 constrained_intra=0 bframes=3 b_pyramid=2 b_adapt=1 b_bias=0 direct=1 weightb=1 open_gop=0 weightp=2 keyint=250 keyint_min=25 scenecut=40 intra_refresh=0 rc_lookahead=40 rc=crf mbtree=1 crf=23.0 qcomp=0.60 qpmin=0 qpmax=69 qpstep=4 ip_ratio=1.40 aq=1:1.00\n",
            "Output #0, mp4, to 'results/result_voice.mp4':\n",
            "  Metadata:\n",
            "    title           : TTS\n",
            "    encoded_by      : Descript\n",
            "    encoder         : Lavf57.83.100\n",
            "    Stream #0:0: Video: h264 (libx264) (avc1 / 0x31637661), yuv420p(progressive), 360x360 [SAR 1:1 DAR 1:1], q=-1--1, 30 fps, 15360 tbn, 30 tbc\n",
            "    Metadata:\n",
            "      encoder         : Lavc57.107.100 libx264\n",
            "    Side data:\n",
            "      cpb: bitrate max/min/avg: 0/0/0 buffer size: 0 vbv_delay: -1\n",
            "    Stream #0:1: Audio: aac (LC) (mp4a / 0x6134706D), 44100 Hz, mono, fltp, 69 kb/s\n",
            "    Metadata:\n",
            "      encoder         : Lavc57.107.100 aac\n",
            "frame=  482 fps=132 q=-1.0 Lsize=     688kB time=00:00:16.20 bitrate= 347.7kbits/s speed=4.43x    \n",
            "video:531kB audio:139kB subtitle:0kB other streams:0kB global headers:0kB muxing overhead: 2.662359%\n",
            "\u001b[1;36m[libx264 @ 0x557a07c06d00] \u001b[0mframe I:2     Avg QP:20.51  size:  7580\n",
            "\u001b[1;36m[libx264 @ 0x557a07c06d00] \u001b[0mframe P:241   Avg QP:22.92  size:  1853\n",
            "\u001b[1;36m[libx264 @ 0x557a07c06d00] \u001b[0mframe B:239   Avg QP:27.16  size:   342\n",
            "\u001b[1;36m[libx264 @ 0x557a07c06d00] \u001b[0mconsecutive B-frames: 22.6% 30.7%  9.3% 37.3%\n",
            "\u001b[1;36m[libx264 @ 0x557a07c06d00] \u001b[0mmb I  I16..4:  8.7% 80.9% 10.4%\n",
            "\u001b[1;36m[libx264 @ 0x557a07c06d00] \u001b[0mmb P  I16..4:  1.1%  5.8%  0.3%  P16..4: 47.6% 12.1%  4.9%  0.0%  0.0%    skip:28.2%\n",
            "\u001b[1;36m[libx264 @ 0x557a07c06d00] \u001b[0mmb B  I16..4:  0.2%  0.8%  0.0%  B16..8: 34.5%  1.5%  0.2%  direct: 0.3%  skip:62.4%  L0:47.4% L1:48.8% BI: 3.7%\n",
            "\u001b[1;36m[libx264 @ 0x557a07c06d00] \u001b[0m8x8 transform intra:80.0% inter:79.4%\n",
            "\u001b[1;36m[libx264 @ 0x557a07c06d00] \u001b[0mcoded y,uvDC,uvAC intra: 56.7% 65.3% 10.8% inter: 9.6% 10.4% 0.0%\n",
            "\u001b[1;36m[libx264 @ 0x557a07c06d00] \u001b[0mi16 v,h,dc,p: 28% 25% 31% 16%\n",
            "\u001b[1;36m[libx264 @ 0x557a07c06d00] \u001b[0mi8 v,h,dc,ddl,ddr,vr,hd,vl,hu: 28% 20% 33%  2%  3%  4%  3%  3%  3%\n",
            "\u001b[1;36m[libx264 @ 0x557a07c06d00] \u001b[0mi4 v,h,dc,ddl,ddr,vr,hd,vl,hu: 37% 11% 17%  4%  8% 11%  4%  4%  3%\n",
            "\u001b[1;36m[libx264 @ 0x557a07c06d00] \u001b[0mi8c dc,h,v,p: 49% 17% 27%  7%\n",
            "\u001b[1;36m[libx264 @ 0x557a07c06d00] \u001b[0mWeighted P-Frames: Y:1.2% UV:0.0%\n",
            "\u001b[1;36m[libx264 @ 0x557a07c06d00] \u001b[0mref P L0: 69.5% 11.7% 13.7%  5.0%  0.1%\n",
            "\u001b[1;36m[libx264 @ 0x557a07c06d00] \u001b[0mref B L0: 88.4%  9.5%  2.0%\n",
            "\u001b[1;36m[libx264 @ 0x557a07c06d00] \u001b[0mref B L1: 98.3%  1.7%\n",
            "\u001b[1;36m[libx264 @ 0x557a07c06d00] \u001b[0mkb/s:270.58\n",
            "\u001b[1;36m[aac @ 0x557a07cdc000] \u001b[0mQavg: 197.036\n"
          ]
        }
      ]
    },
    {
      "cell_type": "code",
      "metadata": {
        "id": "uNOAZvkszEOw"
      },
      "source": [
        "# use the \"files\" button on the left to download the result in the Wav2Lip/results/ folder."
      ],
      "execution_count": null,
      "outputs": []
    }
  ]
}